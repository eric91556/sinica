{
 "cells": [
  {
   "cell_type": "code",
   "execution_count": 1,
   "id": "11cebd62",
   "metadata": {},
   "outputs": [
    {
     "name": "stdout",
     "output_type": "stream",
     "text": [
      "Regular multiply: [19 43; 22 50]\n",
      "Strassen multiply: [19 43; 22 50]\n",
      "Regular multiply: [1 0 0 0; 0 1 0 0; 0 0 1 0; 0 0 0 1]\n",
      "Strassen multiply: [1 0 0 0; 0 1 0 0; 0 0 1 0; 0 0 0 1]\n",
      "Regular multiply: [1 2 3 4; 5 6 7 8; 9 10 11 12; 13 14 15 16]\n",
      "Strassen multiply: [1 2 3 4; 5 6 7 8; 9 10 11 12; 13 14 15 16]\n",
      "Regular multiply: [0 1; -1 0]\n",
      "Strassen multiply: [0 1; -1 0]\n"
     ]
    }
   ],
   "source": [
    "\"\"\"\n",
    "Strassen's matrix multiplication algorithm.\n",
    "Use dynamic padding in order to reduce required auxiliary memory.\n",
    "\"\"\"\n",
    "function strassen(x::Matrix, y::Matrix)\n",
    "    # Check that the sizes of these matrices match.\n",
    "    (r1, c1) = size(x)\n",
    "    (r2, c2) = size(y)\n",
    "    if c1 != r2\n",
    "        error(\"Multiplying $r1 x $c1 and $r2 x $c2 matrix: dimensions do not match.\")\n",
    "    end\n",
    "\n",
    "    # Put a matrix into the top left of a matrix of zeros.\n",
    "    # `rows` and `cols` are the dimensions of the output matrix.\n",
    "    function embed(mat, rows, cols)\n",
    "        # If the matrix is already of the right dimensions, don't allocate new memory.\n",
    "        (r, c) = size(mat)\n",
    "        if (r, c) == (rows, cols)\n",
    "            return mat\n",
    "        end\n",
    "\n",
    "        # Pad the matrix with zeros to be the right size.\n",
    "        out = zeros(Int, rows, cols)\n",
    "        out[1:r, 1:c] = mat\n",
    "        out\n",
    "    end\n",
    "\n",
    "    # Make sure both matrices are the same size.\n",
    "    # This is exclusively for simplicity:\n",
    "    # this algorithm can be implemented with matrices of different sizes.\n",
    "    r = max(r1, r2); c = max(c1, c2)\n",
    "    x = embed(x, r, c)\n",
    "    y = embed(y, r, c)\n",
    "\n",
    "    # Our recursive multiplication function.\n",
    "    function block_mult(a, b, rows, cols)\n",
    "        # For small matrices, resort to naive multiplication.\n",
    "#       if rows <= 128 || cols <= 128\n",
    "        if rows == 1 && cols == 1\n",
    "#       if rows == 2 && cols == 2\n",
    "            return a * b\n",
    "        end\n",
    "\n",
    "        # Apply dynamic padding.\n",
    "        if rows % 2 == 1 && cols % 2 == 1\n",
    "            a = embed(a, rows + 1, cols + 1)\n",
    "            b = embed(b, rows + 1, cols + 1)\n",
    "        elseif rows % 2 == 1\n",
    "            a = embed(a, rows + 1, cols)\n",
    "            b = embed(b, rows + 1, cols)\n",
    "        elseif cols % 2 == 1\n",
    "            a = embed(a, rows, cols + 1)\n",
    "            b = embed(b, rows, cols + 1)\n",
    "        end\n",
    "\n",
    "        half_rows = Int(size(a, 1) / 2)\n",
    "        half_cols = Int(size(a, 2) / 2)\n",
    "\n",
    "        # Subdivide input matrices.\n",
    "        a11 = a[1:half_rows, 1:half_cols]\n",
    "        b11 = b[1:half_rows, 1:half_cols]\n",
    "\n",
    "        a12 = a[1:half_rows, half_cols+1:size(a, 2)]\n",
    "        b12 = b[1:half_rows, half_cols+1:size(a, 2)]\n",
    "\n",
    "        a21 = a[half_rows+1:size(a, 1), 1:half_cols]\n",
    "        b21 = b[half_rows+1:size(a, 1), 1:half_cols]\n",
    "\n",
    "        a22 = a[half_rows+1:size(a, 1), half_cols+1:size(a, 2)]\n",
    "        b22 = b[half_rows+1:size(a, 1), half_cols+1:size(a, 2)]\n",
    "\n",
    "        # Compute intermediate values.\n",
    "        multip(x, y) = block_mult(x, y, half_rows, half_cols)\n",
    "        m1 = multip(a11 + a22, b11 + b22)\n",
    "        m2 = multip(a21 + a22, b11)\n",
    "        m3 = multip(a11, b12 - b22)\n",
    "        m4 = multip(a22, b21 - b11)\n",
    "        m5 = multip(a11 + a12, b22)\n",
    "        m6 = multip(a21 - a11, b11 + b12)\n",
    "        m7 = multip(a12 - a22, b21 + b22)\n",
    "\n",
    "        # Combine intermediate values into the output.\n",
    "        c11 = m1 + m4 - m5 + m7\n",
    "        c12 = m3 + m5\n",
    "        c21 = m2 + m4\n",
    "        c22 = m1 - m2 + m3 + m6\n",
    "\n",
    "        # Crop output to the desired size (undo dynamic padding).\n",
    "        out = [c11 c12; c21 c22]\n",
    "        out[1:rows, 1:cols]\n",
    "    end\n",
    "\n",
    "    block_mult(x, y, r, c)\n",
    "end\n",
    "\n",
    "const A = [[1, 2] [3, 4]]\n",
    "const B = [[5, 6] [7, 8]]\n",
    "const C = [[1, 1, 1, 1] [2, 4, 8, 16] [3, 9, 27, 81] [4, 16, 64, 256]]\n",
    "const D = [[4, -3, 4/3, -1/4] [-13/3, 19/4, -7/3, 11/24] [3/2, -2, 7/6, -1/4] [-1/6, 1/4, -1/6, 1/24]]\n",
    "const E = [[1, 2, 3, 4] [5, 6, 7, 8] [9, 10, 11, 12] [13, 14, 15, 16]]\n",
    "const F = [[1, 0, 0, 0] [0, 1, 0, 0] [0, 0, 1, 0] [0, 0, 0, 1]]\n",
    "\n",
    "\"\"\" For pretty printing: change matrix to integer if it is within 0.00000001 of an integer \"\"\"\n",
    "intprint(s, mat) = println(s, map(x -> Int(round(x, digits=8)), mat)')\n",
    "\n",
    "intprint(\"Regular multiply: \", A' * B')\n",
    "intprint(\"Strassen multiply: \", strassen(Matrix(A'), Matrix(B')))\n",
    "intprint(\"Regular multiply: \", C * D)\n",
    "intprint(\"Strassen multiply: \", strassen(C, D))\n",
    "intprint(\"Regular multiply: \", E * F)\n",
    "intprint(\"Strassen multiply: \", strassen(E, F))\n",
    "\n",
    "const r = sqrt(2)/2\n",
    "const R = [[r, r] [-r, r]]\n",
    "\n",
    "intprint(\"Regular multiply: \", R * R)\n",
    "intprint(\"Strassen multiply: \", strassen(R,R))"
   ]
  },
  {
   "cell_type": "code",
   "execution_count": 12,
   "id": "294844e0",
   "metadata": {},
   "outputs": [
    {
     "name": "stdout",
     "output_type": "stream",
     "text": [
      "Regular multiply: [19 43; 22 50]\n",
      "  0.001068 seconds (102 allocations: 4.438 KiB)"
     ]
    },
    {
     "name": "stderr",
     "output_type": "stream",
     "text": [
      "WARNING: redefinition of constant A. This may fail, cause incorrect answers, or produce other errors.\n",
      "WARNING: redefinition of constant B. This may fail, cause incorrect answers, or produce other errors.\n",
      "WARNING: redefinition of constant C. This may fail, cause incorrect answers, or produce other errors.\n",
      "WARNING: redefinition of constant D. This may fail, cause incorrect answers, or produce other errors.\n",
      "WARNING: redefinition of constant E. This may fail, cause incorrect answers, or produce other errors.\n",
      "WARNING: redefinition of constant F. This may fail, cause incorrect answers, or produce other errors.\n"
     ]
    },
    {
     "name": "stdout",
     "output_type": "stream",
     "text": [
      "\n",
      "Strassen multiply: [19 43; 22 50]\n",
      "  0.805292 seconds (5.39 M allocations: 242.571 MiB, 10.53% gc time, 99.86% compilation time)\n",
      "Regular multiply: [1 0 0 0; 0 1 0 0; 0 0 1 0; 0 0 0 1]\n",
      "Strassen multiply: [1 0 0 0; 0 1 0 0; 0 0 1 0; 0 0 0 1]\n",
      "Regular multiply: [1 2 3 4; 5 6 7 8; 9 10 11 12; 13 14 15 16]\n",
      "Strassen multiply: [1 2 3 4; 5 6 7 8; 9 10 11 12; 13 14 15 16]\n",
      "Regular multiply: [0 1; -1 0]"
     ]
    },
    {
     "name": "stderr",
     "output_type": "stream",
     "text": [
      "WARNING: redefinition of constant R. This may fail, cause incorrect answers, or produce other errors.\n"
     ]
    },
    {
     "name": "stdout",
     "output_type": "stream",
     "text": [
      "\n",
      "Strassen multiply: [0 1; -1 0]\n"
     ]
    }
   ],
   "source": [
    "function Strassen(A, B)\n",
    "    n = size(A, 1)\n",
    "    if n == 1\n",
    "        return A * B\n",
    "    end\n",
    "    @views A11 = A[1:n÷2, 1:n÷2]\n",
    "    @views A12 = A[1:n÷2, n÷2+1:n]\n",
    "    @views A21 = A[n÷2+1:n, 1:n÷2]\n",
    "    @views A22 = A[n÷2+1:n, n÷2+1:n]\n",
    "    @views B11 = B[1:n÷2, 1:n÷2]\n",
    "    @views B12 = B[1:n÷2, n÷2+1:n]\n",
    "    @views B21 = B[n÷2+1:n, 1:n÷2]\n",
    "    @views B22 = B[n÷2+1:n, n÷2+1:n]\n",
    "\n",
    "    P1 = Strassen(A12 - A22, B21 + B22)\n",
    "    P2 = Strassen(A11 + A22, B11 + B22)\n",
    "    P3 = Strassen(A11 - A21, B11 + B12)\n",
    "    P4 = Strassen(A11 + A12, B22)\n",
    "    P5 = Strassen(A11, B12 - B22)\n",
    "    P6 = Strassen(A22, B21 - B11)\n",
    "    P7 = Strassen(A21 + A22, B11)\n",
    "\n",
    "    C11 = P1 + P2 - P4 + P6\n",
    "    C12 = P4 + P5\n",
    "    C21 = P6 + P7\n",
    "    C22 = P2 - P3 + P5 - P7\n",
    "\n",
    "    return [C11 C12; C21 C22]\n",
    "end\n",
    "\n",
    "const A = [[1, 2] [3, 4]]\n",
    "const B = [[5, 6] [7, 8]]\n",
    "const C = [[1, 1, 1, 1] [2, 4, 8, 16] [3, 9, 27, 81] [4, 16, 64, 256]]\n",
    "const D = [[4, -3, 4/3, -1/4] [-13/3, 19/4, -7/3, 11/24] [3/2, -2, 7/6, -1/4] [-1/6, 1/4, -1/6, 1/24]]\n",
    "const E = [[1, 2, 3, 4] [5, 6, 7, 8] [9, 10, 11, 12] [13, 14, 15, 16]]\n",
    "const F = [[1, 0, 0, 0] [0, 1, 0, 0] [0, 0, 1, 0] [0, 0, 0, 1]]\n",
    "\n",
    "intprint(s, mat) = println(s, map(x -> Int(round(x, digits=8)), mat)')\n",
    "@time intprint(\"Regular multiply: \", A' * B')\n",
    "@time intprint(\"Strassen multiply: \", Strassen(Matrix(A'), Matrix(B')))\n",
    "intprint(\"Regular multiply: \", C * D)\n",
    "intprint(\"Strassen multiply: \", Strassen(C, D))\n",
    "intprint(\"Regular multiply: \", E * F)\n",
    "intprint(\"Strassen multiply: \", Strassen(E, F))\n",
    "\n",
    "const r = sqrt(2)/2\n",
    "const R = [[r, r] [-r, r]]\n",
    "\n",
    "intprint(\"Regular multiply: \", R * R)\n",
    "intprint(\"Strassen multiply: \", Strassen(R,R))"
   ]
  },
  {
   "cell_type": "code",
   "execution_count": 5,
   "id": "90c721fe",
   "metadata": {},
   "outputs": [
    {
     "ename": "LoadError",
     "evalue": "syntax: incomplete: premature end of input",
     "output_type": "error",
     "traceback": [
      "syntax: incomplete: premature end of input",
      "",
      "Stacktrace:",
      " [1] top-level scope",
      "   @ In[5]:3",
      " [2] eval",
      "   @ .\\boot.jl:368 [inlined]",
      " [3] include_string(mapexpr::typeof(REPL.softscope), mod::Module, code::String, filename::String)",
      "   @ Base .\\loading.jl:1428"
     ]
    }
   ],
   "source": [
    "a=3\n",
    "b=5\n",
    "@time if a>2\n",
    "    sum(a+b)"
   ]
  },
  {
   "cell_type": "code",
   "execution_count": 9,
   "id": "977e7f72",
   "metadata": {},
   "outputs": [
    {
     "ename": "LoadError",
     "evalue": "MethodError: no method matching abs(::Vector{Int64})\n\u001b[0mClosest candidates are:\n\u001b[0m  abs(\u001b[91m::Unsigned\u001b[39m) at int.jl:183\n\u001b[0m  abs(\u001b[91m::Signed\u001b[39m) at int.jl:184\n\u001b[0m  abs(\u001b[91m::Union{Float16, Float32, Float64}\u001b[39m) at float.jl:486\n\u001b[0m  ...",
     "output_type": "error",
     "traceback": [
      "MethodError: no method matching abs(::Vector{Int64})\n\u001b[0mClosest candidates are:\n\u001b[0m  abs(\u001b[91m::Unsigned\u001b[39m) at int.jl:183\n\u001b[0m  abs(\u001b[91m::Signed\u001b[39m) at int.jl:184\n\u001b[0m  abs(\u001b[91m::Union{Float16, Float32, Float64}\u001b[39m) at float.jl:486\n\u001b[0m  ...",
      "",
      "Stacktrace:",
      " [1] top-level scope",
      "   @ In[9]:2",
      " [2] eval",
      "   @ .\\boot.jl:368 [inlined]",
      " [3] include_string(mapexpr::typeof(REPL.softscope), mod::Module, code::String, filename::String)",
      "   @ Base .\\loading.jl:1428"
     ]
    }
   ],
   "source": [
    "c=[1,2,3,4]\n",
    "maximum(abs.(c))"
   ]
  },
  {
   "cell_type": "code",
   "execution_count": 15,
   "id": "2b96966c",
   "metadata": {},
   "outputs": [
    {
     "ename": "LoadError",
     "evalue": "syntax: unexpected semicolon in array expression around In[15]:1",
     "output_type": "error",
     "traceback": [
      "syntax: unexpected semicolon in array expression around In[15]:1",
      "",
      "Stacktrace:",
      " [1] top-level scope",
      "   @ In[15]:1",
      " [2] eval",
      "   @ .\\boot.jl:368 [inlined]",
      " [3] include_string(mapexpr::typeof(REPL.softscope), mod::Module, code::String, filename::String)",
      "   @ Base .\\loading.jl:1428"
     ]
    }
   ],
   "source": [
    "A=[1,2;3,4] \n",
    "B=[3,4;2,1]\n",
    "A[1,1]\n",
    "# C=Strassen(A,B)"
   ]
  },
  {
   "cell_type": "code",
   "execution_count": 25,
   "id": "debdd582",
   "metadata": {},
   "outputs": [
    {
     "name": "stdout",
     "output_type": "stream",
     "text": [
      "(2, 2)[7 6; 17 16]"
     ]
    }
   ],
   "source": [
    "A=[1 2;3 4] \n",
    "B=[3 4;2 1]\n",
    "C=similar(B)\n",
    "mul!(C,A,B)\n",
    "print(size(A))\n",
    "print(C)"
   ]
  },
  {
   "cell_type": "code",
   "execution_count": 34,
   "id": "0f6c3953",
   "metadata": {},
   "outputs": [
    {
     "name": "stdout",
     "output_type": "stream",
     "text": [
      "[6.0;;](1, 1)"
     ]
    }
   ],
   "source": [
    "A=[1 1 1]\n",
    "B=[1 2 3]\n",
    "C=ones(1,1)\n",
    "print(mul!(C,A,B'))\n",
    "print(size(mul!(C,A,B')))"
   ]
  },
  {
   "cell_type": "code",
   "execution_count": 2,
   "id": "09d54f04",
   "metadata": {},
   "outputs": [
    {
     "name": "stdout",
     "output_type": "stream",
     "text": [
      "(4,)"
     ]
    }
   ],
   "source": [
    "print(size(B))"
   ]
  },
  {
   "cell_type": "code",
   "execution_count": 6,
   "id": "0dc277a3",
   "metadata": {},
   "outputs": [],
   "source": [
    "using Plots, CSV, DataFrames, Distributions, MKL, LinearAlgebra, BenchmarkTools"
   ]
  },
  {
   "cell_type": "code",
   "execution_count": 36,
   "id": "73f89796",
   "metadata": {},
   "outputs": [
    {
     "name": "stdout",
     "output_type": "stream",
     "text": [
      "Matrix{Int64}(1, 4)"
     ]
    }
   ],
   "source": [
    "d=[1 2 3 4]\n",
    "print(typeof(d))\n",
    "print(size(d))"
   ]
  },
  {
   "cell_type": "code",
   "execution_count": 42,
   "id": "f326410e",
   "metadata": {},
   "outputs": [
    {
     "name": "stdout",
     "output_type": "stream",
     "text": [
      "Vector{Matrix{Int64}}"
     ]
    },
    {
     "ename": "LoadError",
     "evalue": "type Array has no field dot",
     "output_type": "error",
     "traceback": [
      "type Array has no field dot",
      "",
      "Stacktrace:",
      " [1] getproperty(x::Vector{Matrix{Int64}}, f::Symbol)",
      "   @ Base .\\Base.jl:38",
      " [2] top-level scope",
      "   @ In[42]:4",
      " [3] eval",
      "   @ .\\boot.jl:368 [inlined]",
      " [4] include_string(mapexpr::typeof(REPL.softscope), mod::Module, code::String, filename::String)",
      "   @ Base .\\loading.jl:1428"
     ]
    }
   ],
   "source": [
    "x=[[1 2;3 4],[3 4;1 2]]\n",
    "X=similar(x)\n",
    "print(typeof(x))\n"
   ]
  },
  {
   "cell_type": "code",
   "execution_count": 39,
   "id": "e865807c",
   "metadata": {},
   "outputs": [
    {
     "name": "stdout",
     "output_type": "stream",
     "text": [
      "Matrix{Float64}"
     ]
    }
   ],
   "source": [
    "A = Array{Float64, 2}(undef, 2, 3)\n",
    "print(typeof(A))"
   ]
  },
  {
   "cell_type": "code",
   "execution_count": 45,
   "id": "9f9d2028",
   "metadata": {},
   "outputs": [
    {
     "ename": "LoadError",
     "evalue": "MethodError: objects of type Matrix{Int64} are not callable\nUse square brackets [] for indexing an Array.",
     "output_type": "error",
     "traceback": [
      "MethodError: objects of type Matrix{Int64} are not callable\nUse square brackets [] for indexing an Array.",
      "",
      "Stacktrace:",
      " [1] mapreduce_first(f::Matrix{Int64}, op::Function, x::Int64)",
      "   @ Base .\\reduce.jl:419",
      " [2] mapreduce(f::Matrix{Int64}, op::Function, a::Int64)",
      "   @ Base .\\reduce.jl:446",
      " [3] sum(f::Matrix{Int64}, a::Int64; kw::Base.Pairs{Symbol, Union{}, Tuple{}, NamedTuple{(), Tuple{}}})",
      "   @ Base .\\reduce.jl:528",
      " [4] sum(f::Matrix{Int64}, a::Int64)",
      "   @ Base .\\reduce.jl:528",
      " [5] top-level scope",
      "   @ In[45]:2",
      " [6] eval",
      "   @ .\\boot.jl:368 [inlined]",
      " [7] include_string(mapexpr::typeof(REPL.softscope), mod::Module, code::String, filename::String)",
      "   @ Base .\\loading.jl:1428"
     ]
    }
   ],
   "source": [
    "A = [1 2; 3 4]\n",
    "sum(A,1)"
   ]
  },
  {
   "cell_type": "code",
   "execution_count": 59,
   "id": "03a9635e",
   "metadata": {},
   "outputs": [
    {
     "name": "stdout",
     "output_type": "stream",
     "text": [
      "[178591760, 178186512, 178895408, 178228624, 178592720, 178592768, 178592912, 178227920, 178227984, 178228048, 178591904, 178228816, 178228880, 178228944, 178229008, 178229072, 178895408, 178229200, 178229136, 178229136, 1980493312, 178229264, 178228752, 1, 178593248, 178593296, 178593344, 178229392, 178229456, 178229520, 178593392, 178593440, 178593488, 178229584, 178229648, 178229712, 178229776, 3, 3, 2]"
     ]
    }
   ],
   "source": [
    "Score = Array{Int64,1}(undef,40)\n",
    "typeof(Score)\n",
    "print(Score)"
   ]
  },
  {
   "cell_type": "code",
   "execution_count": 2,
   "id": "85e69c46",
   "metadata": {},
   "outputs": [
    {
     "ename": "LoadError",
     "evalue": "syntax: extra token \"https\" after end of expression",
     "output_type": "error",
     "traceback": [
      "syntax: extra token \"https\" after end of expression",
      "",
      "Stacktrace:",
      " [1] top-level scope",
      "   @ In[2]:1",
      " [2] eval",
      "   @ .\\boot.jl:368 [inlined]",
      " [3] include_string(mapexpr::typeof(REPL.softscope), mod::Module, code::String, filename::String)",
      "   @ Base .\\loading.jl:1428"
     ]
    }
   ],
   "source": [
    "add https://github.com/BenLauwens/Thinkjulia.jl"
   ]
  },
  {
   "cell_type": "code",
   "execution_count": 7,
   "id": "a644a514",
   "metadata": {},
   "outputs": [
    {
     "ename": "LoadError",
     "evalue": "syntax: extra token \"https\" after end of expression",
     "output_type": "error",
     "traceback": [
      "syntax: extra token \"https\" after end of expression",
      "",
      "Stacktrace:",
      " [1] top-level scope",
      "   @ In[7]:1",
      " [2] eval",
      "   @ .\\boot.jl:368 [inlined]",
      " [3] include_string(mapexpr::typeof(REPL.softscope), mod::Module, code::String, filename::String)",
      "   @ Base .\\loading.jl:1428"
     ]
    }
   ],
   "source": [
    "import Pkg;"
   ]
  },
  {
   "cell_type": "code",
   "execution_count": 12,
   "id": "50111266",
   "metadata": {},
   "outputs": [
    {
     "ename": "LoadError",
     "evalue": "The following package names could not be resolved:\n * ThinkJulia (not found in project, manifest or registry)",
     "output_type": "error",
     "traceback": [
      "The following package names could not be resolved:\n * ThinkJulia (not found in project, manifest or registry)",
      "",
      "Stacktrace:",
      "  [1] pkgerror(msg::String)",
      "    @ Pkg.Types C:\\Users\\user\\AppData\\Local\\Programs\\Julia-1.8.2\\share\\julia\\stdlib\\v1.8\\Pkg\\src\\Types.jl:67",
      "  [2] ensure_resolved(ctx::Pkg.Types.Context, manifest::Pkg.Types.Manifest, pkgs::Vector{Pkg.Types.PackageSpec}; registry::Bool)",
      "    @ Pkg.Types C:\\Users\\user\\AppData\\Local\\Programs\\Julia-1.8.2\\share\\julia\\stdlib\\v1.8\\Pkg\\src\\Types.jl:952",
      "  [3] add(ctx::Pkg.Types.Context, pkgs::Vector{Pkg.Types.PackageSpec}; preserve::Pkg.Types.PreserveLevel, platform::Base.BinaryPlatforms.Platform, kwargs::Base.Pairs{Symbol, IJulia.IJuliaStdio{Base.PipeEndpoint}, Tuple{Symbol}, NamedTuple{(:io,), Tuple{IJulia.IJuliaStdio{Base.PipeEndpoint}}}})",
      "    @ Pkg.API C:\\Users\\user\\AppData\\Local\\Programs\\Julia-1.8.2\\share\\julia\\stdlib\\v1.8\\Pkg\\src\\API.jl:264",
      "  [4] add(pkgs::Vector{Pkg.Types.PackageSpec}; io::IJulia.IJuliaStdio{Base.PipeEndpoint}, kwargs::Base.Pairs{Symbol, Union{}, Tuple{}, NamedTuple{(), Tuple{}}})",
      "    @ Pkg.API C:\\Users\\user\\AppData\\Local\\Programs\\Julia-1.8.2\\share\\julia\\stdlib\\v1.8\\Pkg\\src\\API.jl:156",
      "  [5] add(pkgs::Vector{Pkg.Types.PackageSpec})",
      "    @ Pkg.API C:\\Users\\user\\AppData\\Local\\Programs\\Julia-1.8.2\\share\\julia\\stdlib\\v1.8\\Pkg\\src\\API.jl:145",
      "  [6] #add#27",
      "    @ C:\\Users\\user\\AppData\\Local\\Programs\\Julia-1.8.2\\share\\julia\\stdlib\\v1.8\\Pkg\\src\\API.jl:144 [inlined]",
      "  [7] add",
      "    @ C:\\Users\\user\\AppData\\Local\\Programs\\Julia-1.8.2\\share\\julia\\stdlib\\v1.8\\Pkg\\src\\API.jl:144 [inlined]",
      "  [8] #add#26",
      "    @ C:\\Users\\user\\AppData\\Local\\Programs\\Julia-1.8.2\\share\\julia\\stdlib\\v1.8\\Pkg\\src\\API.jl:143 [inlined]",
      "  [9] add(pkg::String)",
      "    @ Pkg.API C:\\Users\\user\\AppData\\Local\\Programs\\Julia-1.8.2\\share\\julia\\stdlib\\v1.8\\Pkg\\src\\API.jl:143",
      " [10] top-level scope",
      "    @ In[12]:1",
      " [11] eval",
      "    @ .\\boot.jl:368 [inlined]",
      " [12] include_string(mapexpr::typeof(REPL.softscope), mod::Module, code::String, filename::String)",
      "    @ Base .\\loading.jl:1428"
     ]
    }
   ],
   "source": [
    " Pkg.add(\"ThinkJulia\")"
   ]
  },
  {
   "cell_type": "code",
   "execution_count": 13,
   "id": "3623b07d",
   "metadata": {},
   "outputs": [
    {
     "ename": "LoadError",
     "evalue": "syntax: extra token \"https\" after end of expression",
     "output_type": "error",
     "traceback": [
      "syntax: extra token \"https\" after end of expression",
      "",
      "Stacktrace:",
      " [1] top-level scope",
      "   @ In[13]:1",
      " [2] eval",
      "   @ .\\boot.jl:368 [inlined]",
      " [3] include_string(mapexpr::typeof(REPL.softscope), mod::Module, code::String, filename::String)",
      "   @ Base .\\loading.jl:1428"
     ]
    }
   ],
   "source": [
    "add https://github.com/yeesian/LeafletJS.jl.git"
   ]
  },
  {
   "cell_type": "code",
   "execution_count": null,
   "id": "4d6cf897",
   "metadata": {},
   "outputs": [],
   "source": []
  }
 ],
 "metadata": {
  "kernelspec": {
   "display_name": "Julia 1.8.2",
   "language": "julia",
   "name": "julia-1.8"
  },
  "language_info": {
   "file_extension": ".jl",
   "mimetype": "application/julia",
   "name": "julia",
   "version": "1.8.2"
  }
 },
 "nbformat": 4,
 "nbformat_minor": 5
}
