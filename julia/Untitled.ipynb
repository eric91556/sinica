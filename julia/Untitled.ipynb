{
 "cells": [
  {
   "cell_type": "code",
   "execution_count": 2,
   "id": "3623b07d",
   "metadata": {},
   "outputs": [],
   "source": [
    "using Plots, CSV, DataFrames, Distributions, MKL, LinearAlgebra, BenchmarkTools, MAT, Printf"
   ]
  },
  {
   "cell_type": "code",
   "execution_count": 13,
   "id": "4d6cf897",
   "metadata": {},
   "outputs": [
    {
     "name": "stderr",
     "output_type": "stream",
     "text": [
      "\u001b[32m\u001b[1m    Updating\u001b[22m\u001b[39m registry at `C:\\Users\\user\\.julia\\registries\\General.toml`\n",
      "\u001b[32m\u001b[1m   Resolving\u001b[22m\u001b[39m package versions...\n",
      "\u001b[32m\u001b[1m   Installed\u001b[22m\u001b[39m HDF5_jll ──────── v1.12.2+2\n",
      "\u001b[32m\u001b[1m   Installed\u001b[22m\u001b[39m BufferedStreams ─ v1.1.0\n",
      "\u001b[32m\u001b[1m   Installed\u001b[22m\u001b[39m MAT ───────────── v0.10.3\n",
      "\u001b[32m\u001b[1m   Installed\u001b[22m\u001b[39m HDF5 ──────────── v0.16.12\n",
      "\u001b[32m\u001b[1m    Updating\u001b[22m\u001b[39m `C:\\Users\\user\\.julia\\environments\\v1.8\\Project.toml`\n",
      " \u001b[90m [23992714] \u001b[39m\u001b[92m+ MAT v0.10.3\u001b[39m\n",
      "\u001b[32m\u001b[1m    Updating\u001b[22m\u001b[39m `C:\\Users\\user\\.julia\\environments\\v1.8\\Manifest.toml`\n",
      " \u001b[90m [e1450e63] \u001b[39m\u001b[92m+ BufferedStreams v1.1.0\u001b[39m\n",
      " \u001b[90m [f67ccb44] \u001b[39m\u001b[92m+ HDF5 v0.16.12\u001b[39m\n",
      " \u001b[90m [23992714] \u001b[39m\u001b[92m+ MAT v0.10.3\u001b[39m\n",
      " \u001b[90m [0234f1f7] \u001b[39m\u001b[92m+ HDF5_jll v1.12.2+2\u001b[39m\n",
      "\u001b[32m\u001b[1m    Building\u001b[22m\u001b[39m HDF5 → `C:\\Users\\user\\.julia\\scratchspaces\\44cfe95a-1eb2-52ea-b672-e2afdf69b78f\\19effd6b5af759c8aaeb9c77f89422d3f975ab65\\build.log`\n",
      "\u001b[32m\u001b[1mPrecompiling\u001b[22m\u001b[39m project...\n",
      "\u001b[32m  ✓ \u001b[39m\u001b[90mBufferedStreams\u001b[39m\n",
      "\u001b[32m  ✓ \u001b[39m\u001b[90mHDF5_jll\u001b[39m\n",
      "\u001b[32m  ✓ \u001b[39m\u001b[90mHDF5\u001b[39m\n",
      "\u001b[32m  ✓ \u001b[39mMAT\n",
      "  4 dependencies successfully precompiled in 14 seconds. 171 already precompiled.\n",
      "\u001b[32m\u001b[1m   Resolving\u001b[22m\u001b[39m package versions...\n",
      "\u001b[32m\u001b[1m    Updating\u001b[22m\u001b[39m `C:\\Users\\user\\.julia\\environments\\v1.8\\Project.toml`\n",
      " \u001b[90m [de0858da] \u001b[39m\u001b[92m+ Printf\u001b[39m\n",
      "\u001b[32m\u001b[1m  No Changes\u001b[22m\u001b[39m to `C:\\Users\\user\\.julia\\environments\\v1.8\\Manifest.toml`\n"
     ]
    }
   ],
   "source": [
    "import Pkg\n",
    "Pkg.add(\"MAT\")\n",
    "Pkg.add(\"Printf\")"
   ]
  },
  {
   "cell_type": "code",
   "execution_count": null,
   "id": "db1651d4",
   "metadata": {},
   "outputs": [],
   "source": [
    "f=rand(1,1)"
   ]
  },
  {
   "cell_type": "code",
   "execution_count": null,
   "id": "fd260747",
   "metadata": {},
   "outputs": [],
   "source": [
    "B = [1.5 2 -4; 2 -1 -3; -4 -3 5]\n",
    "factorize(B)"
   ]
  },
  {
   "cell_type": "code",
   "execution_count": null,
   "id": "ee9d790f",
   "metadata": {},
   "outputs": [],
   "source": [
    "U = UniformScaling(2)\n",
    "U[1:2,1:2]"
   ]
  },
  {
   "cell_type": "code",
   "execution_count": null,
   "id": "472f3257",
   "metadata": {},
   "outputs": [],
   "source": [
    "A=[0 2;1 3]\n",
    "factorize(A)"
   ]
  },
  {
   "cell_type": "code",
   "execution_count": null,
   "id": "14458e20",
   "metadata": {},
   "outputs": [],
   "source": [
    "A=[1 3;0 2]\n",
    "factorize(A)"
   ]
  },
  {
   "cell_type": "code",
   "execution_count": null,
   "id": "8a92663b",
   "metadata": {},
   "outputs": [],
   "source": [
    "A = reshape(collect(1:16), (2, 2, 2, 2))"
   ]
  },
  {
   "cell_type": "code",
   "execution_count": null,
   "id": "dd82d7e0",
   "metadata": {},
   "outputs": [],
   "source": [
    "A = [4 3; 6 3]\n",
    "F = lu(A)\n",
    "F.L * F.U == F.P*A\n"
   ]
  },
  {
   "cell_type": "code",
   "execution_count": null,
   "id": "c958c006",
   "metadata": {},
   "outputs": [],
   "source": [
    "fill(2, (5,6))"
   ]
  },
  {
   "cell_type": "code",
   "execution_count": null,
   "id": "0ddf8129",
   "metadata": {},
   "outputs": [],
   "source": [
    "c=ones(333,1)\n",
    "d=ones(1,333)\n",
    "e=ones(333,333)\n",
    "mul!(e,c,d)\n",
    "size(e)\n"
   ]
  },
  {
   "cell_type": "code",
   "execution_count": null,
   "id": "1a81660a",
   "metadata": {},
   "outputs": [],
   "source": [
    "\n",
    "    f_mo_hat_new=copy(f_mo_hat);\n",
    "    global w = f_mo_hat_new./g / sum(f_mo_hat_new./g);\n",
    "    tempC = similar(fdensity);\n",
    "    mul!(tempC,ones(num_obs,1),f_mo_hat_new)\n",
    "    print(tempC)\n",
    "    temptop = (tempC.*fdensity);\n",
    "    mul!(tempC,ones(num_obs,1),w)\n",
    "    tempbottom = (sum(tempC.*fdensity,dims=2)*ones(1,nS));\n",
    "    temp_a  = findall(x-> x==0,tempbottom); \n",
    "    #temp_max = 10*maximum(tempbottom);\n",
    "    #tempbottom[temp_a] .= temp_max;\n",
    "    #temp_min = 0.01*minimum(tempbottom);\n",
    "    #tempbottom[temp_a] .= temp_min;\n",
    "    tempbottom[temp_a] .= 0.0001;\n",
    "    global f_mo_hat = mean( temptop./ tempbottom, dims = 1);"
   ]
  },
  {
   "cell_type": "code",
   "execution_count": 17,
   "id": "9d24c119",
   "metadata": {},
   "outputs": [
    {
     "ename": "LoadError",
     "evalue": "syntax: extra token \"Coordinate\" after end of expression",
     "output_type": "error",
     "traceback": [
      "syntax: extra token \"Coordinate\" after end of expression",
      "",
      "Stacktrace:",
      " [1] top-level scope",
      "   @ In[17]:1",
      " [2] eval",
      "   @ .\\boot.jl:368 [inlined]",
      " [3] include_string(mapexpr::typeof(REPL.softscope), mod::Module, code::String, filename::String)",
      "   @ Base .\\loading.jl:1428"
     ]
    }
   ],
   "source": [
    "type Coordinate\n",
    "    x::Float64\n",
    "    y::Float64\n",
    "end\n",
    "\n",
    "c = Coordinate(3, 4.0)\n",
    "print(c)"
   ]
  },
  {
   "cell_type": "code",
   "execution_count": 30,
   "id": "c88ca153",
   "metadata": {},
   "outputs": [],
   "source": [
    "prog = \"1+2\"\n",
    "ex = Meta.parse(prog)\n",
    "ex = quote\n",
    "    1+2\n",
    "end;"
   ]
  },
  {
   "cell_type": "code",
   "execution_count": 6,
   "id": "f92485a6",
   "metadata": {},
   "outputs": [
    {
     "name": "stdout",
     "output_type": "stream",
     "text": [
      "[[1 4; 2 5; 3 6]][1 4 7; 2 5 8; 3 6 9]"
     ]
    },
    {
     "data": {
      "text/plain": [
       "3×2 Matrix{Int64}:\n",
       " 1  4\n",
       " 2  5\n",
       " 3  6"
      ]
     },
     "execution_count": 6,
     "metadata": {},
     "output_type": "execute_result"
    }
   ],
   "source": [
    "a = [[1,2,3] [4,5,6]]\n",
    "typeof(a)\n",
    "b=[a]\n",
    "typeof(b)\n",
    "print(b)\n",
    "c = [[1,2,3] [4,5,6] [7,8,9]]\n",
    "print(c)\n",
    "d= [[1 2 3] [4 5 6]]\n",
    "a = [[1,2,3] [4,5,6]]"
   ]
  },
  {
   "cell_type": "code",
   "execution_count": 8,
   "id": "313fab29",
   "metadata": {},
   "outputs": [
    {
     "name": "stdout",
     "output_type": "stream",
     "text": [
      "a: 5\n",
      "b: 5\n",
      "b: 4\n",
      "b: 3\n",
      "a: 4\n",
      "b: 4\n",
      "b: 3\n",
      "a: 3\n",
      "b: 3\n"
     ]
    }
   ],
   "source": [
    "a = 5\n",
    "while a > 2\n",
    " global a\n",
    " println(\"a: $a\")\n",
    " b = a\n",
    " while b > 2\n",
    " println(\"b: $b\")\n",
    " b -= 1\n",
    " end\n",
    " a -= 1\n",
    "end"
   ]
  },
  {
   "cell_type": "code",
   "execution_count": 10,
   "id": "8cf08d4a",
   "metadata": {},
   "outputs": [
    {
     "name": "stdout",
     "output_type": "stream",
     "text": [
      "a: 5\n",
      "b: 5\n",
      "b: 4\n",
      "b: 3\n",
      "a: 4\n",
      "b: 4\n",
      "b: 3\n",
      "a: 3\n",
      "b: 3\n"
     ]
    }
   ],
   "source": [
    "a = 5\n",
    "while a > 2\n",
    " global a\n",
    " println(\"a: $a\")\n",
    " b = a\n",
    " while b > 2\n",
    " println(\"b: $b\")\n",
    " b -= 1\n",
    " end\n",
    " a -= 1\n",
    "end"
   ]
  },
  {
   "cell_type": "code",
   "execution_count": 11,
   "id": "d111d133",
   "metadata": {},
   "outputs": [
    {
     "name": "stdout",
     "output_type": "stream",
     "text": [
      "  0.000002 seconds\n"
     ]
    },
    {
     "data": {
      "text/plain": [
       "Tuple{Int64, Float64, String}"
      ]
     },
     "execution_count": 11,
     "metadata": {},
     "output_type": "execute_result"
    }
   ],
   "source": [
    "t = (1,2.5,\"a\")\n",
    "@time typeof(t)"
   ]
  },
  {
   "cell_type": "code",
   "execution_count": 7,
   "id": "26cfc6ea",
   "metadata": {},
   "outputs": [
    {
     "name": "stdout",
     "output_type": "stream",
     "text": [
      "\t\u001b[0m.text\n",
      "\t\u001b[0m.file\t\u001b[0m\"^\"\n",
      "\t\u001b[0m.globl\t\u001b[0m\"julia_^_1372\"                  \u001b[90m# -- Begin function julia_^_1372\u001b[39m\n",
      "\t\u001b[0m.p2align\t\u001b[33m4\u001b[39m\u001b[0m, \u001b[33m0x90\u001b[39m\n",
      "\t\u001b[0m.type\t\u001b[0m\"julia_^_1372\"\u001b[0m,\u001b[0m@function\n",
      "\u001b[91m\"julia_^_1372\":\u001b[39m                         \u001b[90m# @\"julia_^_1372\"\u001b[39m\n",
      "\u001b[90m; ┌ @ intfuncs.jl:299 within `^`\u001b[39m\n",
      "\t\u001b[0m.cfi_startproc\n",
      "\u001b[90m# %bb.0:                                # %top\u001b[39m\n",
      "\t\u001b[96m\u001b[1mpushq\u001b[22m\u001b[39m\t\u001b[0m%rbp\n",
      "\t\u001b[0m.cfi_def_cfa_offset \u001b[33m16\u001b[39m\n",
      "\t\u001b[0m.cfi_offset \u001b[0m%rbp\u001b[0m, \u001b[33m-16\u001b[39m\n",
      "\t\u001b[96m\u001b[1mmovq\u001b[22m\u001b[39m\t\u001b[0m%rsp\u001b[0m, \u001b[0m%rbp\n",
      "\t\u001b[0m.cfi_def_cfa_register \u001b[0m%rbp\n",
      "\t\u001b[96m\u001b[1msubq\u001b[22m\u001b[39m\t\u001b[33m$32\u001b[39m\u001b[0m, \u001b[0m%rsp\n",
      "\t\u001b[96m\u001b[1mmovabsq\u001b[22m\u001b[39m\t\u001b[93m$j_power_by_squaring_1374\u001b[39m\u001b[0m, \u001b[0m%rax\n",
      "\t\u001b[96m\u001b[1mcallq\u001b[22m\u001b[39m\t\u001b[0m*\u001b[0m%rax\n",
      "\t\u001b[96m\u001b[1maddq\u001b[22m\u001b[39m\t\u001b[33m$32\u001b[39m\u001b[0m, \u001b[0m%rsp\n",
      "\t\u001b[96m\u001b[1mpopq\u001b[22m\u001b[39m\t\u001b[0m%rbp\n",
      "\t\u001b[96m\u001b[1mretq\u001b[22m\u001b[39m\n",
      "\u001b[91m.Lfunc_end0:\u001b[39m\n",
      "\t\u001b[0m.size\t\u001b[0m\"julia_^_1372\"\u001b[0m, \u001b[0m.Lfunc_end0-\"julia_^_1372\"\n",
      "\t\u001b[0m.cfi_endproc\n",
      "\u001b[90m; └\u001b[39m\n",
      "                                        \u001b[90m# -- End function\u001b[39m\n",
      "\t\u001b[0m.section\t\u001b[0m\".note.GNU-stack\"\u001b[0m,\u001b[0m\"\"\u001b[0m,\u001b[0m@progbits\n",
      "\t\u001b[0m.text\n",
      "\t\u001b[0m.file\t\u001b[0m\"^\"\n",
      "\t\u001b[0m.section\t\u001b[0m.rodata.cst8\u001b[0m,\u001b[0m\"aM\"\u001b[0m,\u001b[0m@progbits\u001b[0m,\u001b[33m8\u001b[39m\n",
      "\t\u001b[0m.p2align\t\u001b[33m3\u001b[39m                               \u001b[90m# -- Begin function julia_^_1408\u001b[39m\n",
      "\u001b[91m.LCPI0_0:\u001b[39m\n",
      "\t\u001b[0m.quad\t\u001b[33m0x3ff0000000000000\u001b[39m              \u001b[90m# double 1\u001b[39m\n",
      "\t\u001b[0m.text\n",
      "\t\u001b[0m.globl\t\u001b[0m\"julia_^_1408\"\n",
      "\t\u001b[0m.p2align\t\u001b[33m4\u001b[39m\u001b[0m, \u001b[33m0x90\u001b[39m\n",
      "\t\u001b[0m.type\t\u001b[0m\"julia_^_1408\"\u001b[0m,\u001b[0m@function\n",
      "\u001b[91m\"julia_^_1408\":\u001b[39m                         \u001b[90m# @\"julia_^_1408\"\u001b[39m\n",
      "\u001b[90m; ┌ @ math.jl:1044 within `^`\u001b[39m\n",
      "\t\u001b[0m.cfi_startproc\n",
      "\u001b[90m# %bb.0:                                # %top\u001b[39m\n",
      "\t\u001b[96m\u001b[1mpushq\u001b[22m\u001b[39m\t\u001b[0m%rbp\n",
      "\t\u001b[0m.cfi_def_cfa_offset \u001b[33m16\u001b[39m\n",
      "\t\u001b[0m.cfi_offset \u001b[0m%rbp\u001b[0m, \u001b[33m-16\u001b[39m\n",
      "\t\u001b[96m\u001b[1mmovq\u001b[22m\u001b[39m\t\u001b[0m%rsp\u001b[0m, \u001b[0m%rbp\n",
      "\t\u001b[0m.cfi_def_cfa_register \u001b[0m%rbp\n",
      "\t\u001b[96m\u001b[1msubq\u001b[22m\u001b[39m\t\u001b[33m$32\u001b[39m\u001b[0m, \u001b[0m%rsp\n",
      "\u001b[90m; │ @ math.jl:1045 within `^`\u001b[39m\n",
      "\u001b[90m; │┌ @ promotion.jl:477 within `==`\u001b[39m\n",
      "\t\u001b[96m\u001b[1mtestq\u001b[22m\u001b[39m\t\u001b[0m%rdx\u001b[0m, \u001b[0m%rdx\n",
      "\u001b[90m; │└\u001b[39m\n",
      "\t\u001b[96m\u001b[1mje\u001b[22m\u001b[39m\t\u001b[0m.LBB0_1\n",
      "\u001b[90m# %bb.3:                                # %L4\u001b[39m\n",
      "\u001b[90m; │ @ math.jl:1046 within `^`\u001b[39m\n",
      "\t\u001b[96m\u001b[1mmovabsq\u001b[22m\u001b[39m\t\u001b[93m$j_pow_body_1410\u001b[39m\u001b[0m, \u001b[0m%rax\n",
      "\t\u001b[96m\u001b[1mcallq\u001b[22m\u001b[39m\t\u001b[0m*\u001b[0m%rax\n",
      "\t\u001b[96m\u001b[1mjmp\u001b[22m\u001b[39m\t\u001b[0m.LBB0_2\n",
      "\u001b[91m.LBB0_1:\u001b[39m\n",
      "\t\u001b[96m\u001b[1mmovabsq\u001b[22m\u001b[39m\t\u001b[93m$.LCPI0_0\u001b[39m\u001b[0m, \u001b[0m%rax\n",
      "\t\u001b[96m\u001b[1mvmovsd\u001b[22m\u001b[39m\t\u001b[33m(\u001b[39m\u001b[0m%rax\u001b[33m)\u001b[39m\u001b[0m, \u001b[0m%xmm0                   \u001b[90m# xmm0 = mem[0],zero\u001b[39m\n",
      "\u001b[91m.LBB0_2:\u001b[39m                                \u001b[90m# %common.ret\u001b[39m\n",
      "\u001b[90m; │ @ math.jl within `^`\u001b[39m\n",
      "\t\u001b[96m\u001b[1maddq\u001b[22m\u001b[39m\t\u001b[33m$32\u001b[39m\u001b[0m, \u001b[0m%rsp\n",
      "\t\u001b[96m\u001b[1mpopq\u001b[22m\u001b[39m\t\u001b[0m%rbp\n",
      "\t\u001b[96m\u001b[1mretq\u001b[22m\u001b[39m\n",
      "\u001b[91m.Lfunc_end0:\u001b[39m\n",
      "\t\u001b[0m.size\t\u001b[0m\"julia_^_1408\"\u001b[0m, \u001b[0m.Lfunc_end0-\"julia_^_1408\"\n",
      "\t\u001b[0m.cfi_endproc\n",
      "\u001b[90m; └\u001b[39m\n",
      "                                        \u001b[90m# -- End function\u001b[39m\n",
      "\t\u001b[0m.section\t\u001b[0m\".note.GNU-stack\"\u001b[0m,\u001b[0m\"\"\u001b[0m,\u001b[0m@progbits\n"
     ]
    }
   ],
   "source": [
    "# # Chapter 1\n",
    "\n",
    "# ### Inspect the generated code for the power function.\n",
    "\n",
    "\n",
    "# For integers:\n",
    "@code_native 3^2\n",
    "\n",
    "# And for floats\n",
    "@code_native 3.5^2\n"
   ]
  },
  {
   "cell_type": "code",
   "execution_count": 19,
   "id": "2c72617c",
   "metadata": {},
   "outputs": [
    {
     "ename": "LoadError",
     "evalue": "UndefVarError: Float not defined",
     "output_type": "error",
     "traceback": [
      "UndefVarError: Float not defined",
      "",
      "Stacktrace:",
      " [1] top-level scope",
      "   @ In[19]:9",
      " [2] eval",
      "   @ .\\boot.jl:368 [inlined]",
      " [3] include_string(mapexpr::typeof(REPL.softscope), mod::Module, code::String, filename::String)",
      "   @ Base .\\loading.jl:1428"
     ]
    }
   ],
   "source": [
    "# # Chapter 1\n",
    "\n",
    "# ## Using Types\n",
    "using BenchmarkTools\n",
    "\n",
    "# Declare type of function argument\n",
    "iam(x::Integer) = \"an integer\"\n",
    "iam(x::String) = \"a string\"\n",
    "iam(x::Float) = \"a float\"\n",
    "\n",
    "function addme(a, b)\n",
    "  #Declare type of local variable x\n",
    "  x::Int64 = 2\n",
    "  #Type of variable y will be inferred\n",
    "  y = (a+b) / x\n",
    "  return y\n",
    "end\n",
    "\n",
    "iam(3.3)"
   ]
  },
  {
   "cell_type": "code",
   "execution_count": 3,
   "id": "55dc4ca0",
   "metadata": {},
   "outputs": [
    {
     "name": "stdout",
     "output_type": "stream",
     "text": [
      "  1.463 ms (2 allocations: 7.63 MiB)\n"
     ]
    },
    {
     "data": {
      "text/plain": [
       "fill_zeros (generic function with 1 method)"
      ]
     },
     "execution_count": 3,
     "metadata": {},
     "output_type": "execute_result"
    }
   ],
   "source": [
    "function string_zeros(s::AbstractString)\n",
    "    n=1000_000\n",
    "    x = s==\"Int64\" ?\n",
    "        Vector{Int64}(undef,n) :\n",
    "        Vector{Float64}(undef, n)\n",
    "    for i in 1:length(x)\n",
    "        x[i] = 0\n",
    "    end\n",
    "    return x\n",
    "end\n",
    "\n",
    "@btime string_zeros(\"Int64\");\n",
    "\n",
    "\n",
    "function string_zeros_stable(s::AbstractString)\n",
    "    n = 1000_000\n",
    "    x = s==\"Int64\" ?\n",
    "        Vector{Int64}(undef, n) :\n",
    "        Vector{Float64}(undef, n)\n",
    "    return fill_zeros(x)\n",
    "end\n",
    "\n",
    "function fill_zeros(x)\n",
    "    for i in 1:length(x)\n",
    "        x[i] = 0\n",
    "    end\n",
    "    return x\n",
    "end"
   ]
  },
  {
   "cell_type": "code",
   "execution_count": 15,
   "id": "1715f117",
   "metadata": {},
   "outputs": [
    {
     "ename": "LoadError",
     "evalue": "cannot document the following expression:\n\n\"1 + 2 = $(1) + 2\"\n",
     "output_type": "error",
     "traceback": [
      "cannot document the following expression:\n\n\"1 + 2 = $(1) + 2\"\n",
      "",
      "Stacktrace:",
      " [1] error(::String, ::String)",
      "   @ Base .\\error.jl:44",
      " [2] top-level scope",
      "   @ In[15]:3",
      " [3] eval",
      "   @ .\\boot.jl:368 [inlined]",
      " [4] include_string(mapexpr::typeof(REPL.softscope), mod::Module, code::String, filename::String)",
      "   @ Base .\\loading.jl:1428"
     ]
    }
   ],
   "source": [
    "greet = \"Hello\"\n",
    "whom = \"World\"\n",
    "\"$greet, $(whom)!\"\n",
    "\"1 + 2 = $(1) + 2\""
   ]
  },
  {
   "cell_type": "code",
   "execution_count": 17,
   "id": "c877ecc9",
   "metadata": {},
   "outputs": [
    {
     "name": "stdout",
     "output_type": "stream",
     "text": [
      "  10.800 ns (0 allocations: 0 bytes)\n",
      "  392.537 ns (0 allocations: 0 bytes)\n"
     ]
    },
    {
     "data": {
      "text/plain": [
       "385"
      ]
     },
     "execution_count": 17,
     "metadata": {},
     "output_type": "execute_result"
    }
   ],
   "source": [
    "#Types in storage\n",
    "## Arrays\n",
    "\n",
    "a = Int64[1, 2, 3, 4, 5, 6, 7, 8, 9, 10]\n",
    "b = Number[1,2,3,4,5,6,7,8,9,10]\n",
    "\n",
    "function arr_sumsqr(x::Array{T}) where T <: Number\n",
    "    r = zero(T)\n",
    "    for i = 1:length(x)\n",
    "        r = r + x[i] ^ 2\n",
    "    end\n",
    "    return r\n",
    "end\n",
    "\n",
    " @btime arr_sumsqr($a)\n",
    " @btime arr_sumsqr($b)"
   ]
  },
  {
   "cell_type": "code",
   "execution_count": 23,
   "id": "b0eefdbe",
   "metadata": {},
   "outputs": [
    {
     "name": "stdout",
     "output_type": "stream",
     "text": [
      "[1, 2, 3]"
     ]
    },
    {
     "data": {
      "text/plain": [
       "true"
      ]
     },
     "execution_count": 23,
     "metadata": {},
     "output_type": "execute_result"
    }
   ],
   "source": [
    "t1 = [1,2]\n",
    "t2 = push!(t1,3)\n",
    "print(t2)\n",
    "t1 === t2"
   ]
  },
  {
   "cell_type": "code",
   "execution_count": 28,
   "id": "b963f4bd",
   "metadata": {},
   "outputs": [
    {
     "name": "stdout",
     "output_type": "stream",
     "text": [
      "[2]false[1, 2, 3]"
     ]
    }
   ],
   "source": [
    "t1 = [1,2]\n",
    "t2 = t1[2:end]\n",
    "t1=[1,2,3]\n",
    "print(t2)\n",
    "print(t1 == t2)\n",
    "print(t1)"
   ]
  },
  {
   "cell_type": "code",
   "execution_count": 42,
   "id": "438abef3",
   "metadata": {},
   "outputs": [
    {
     "name": "stdout",
     "output_type": "stream",
     "text": [
      "[1, 2][1, 2, 3]"
     ]
    }
   ],
   "source": [
    "t3=[1,2,3]\n",
    "function badaboom(t)\n",
    "    t3 = [1,2]\n",
    "end\n",
    "t4 =badaboom(t3)\n",
    "print(t4)\n",
    "print(t3)"
   ]
  }
 ],
 "metadata": {
  "kernelspec": {
   "display_name": "Julia 1.8.2",
   "language": "julia",
   "name": "julia-1.8"
  },
  "language_info": {
   "file_extension": ".jl",
   "mimetype": "application/julia",
   "name": "julia",
   "version": "1.8.2"
  }
 },
 "nbformat": 4,
 "nbformat_minor": 5
}
